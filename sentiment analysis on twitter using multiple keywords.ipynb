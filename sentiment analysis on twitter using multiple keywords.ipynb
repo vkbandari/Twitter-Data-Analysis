{
 "cells": [
  {
   "cell_type": "code",
   "execution_count": 1,
   "metadata": {},
   "outputs": [],
   "source": [
    "# credentials\n",
    "Consumer_Key = \"\"\n",
    "Consumer_Secret = \"\"\n",
    "Access_Token = \"\"\n",
    "Access_Token_Secret = \"\""
   ]
  },
  {
   "cell_type": "code",
   "execution_count": 2,
   "metadata": {},
   "outputs": [],
   "source": [
    "import tweepy"
   ]
  },
  {
   "cell_type": "code",
   "execution_count": 3,
   "metadata": {},
   "outputs": [],
   "source": [
    "auth = tweepy.OAuthHandler(Consumer_Key, Consumer_Secret)\n",
    "auth.set_access_token(Access_Token, Access_Token_Secret)\n",
    "api = tweepy.API(auth)"
   ]
  },
  {
   "cell_type": "markdown",
   "metadata": {},
   "source": [
    "# change it into code cell to install textblob\n",
    "pip install textblob"
   ]
  },
  {
   "cell_type": "code",
   "execution_count": 7,
   "metadata": {},
   "outputs": [],
   "source": [
    "import re \n",
    "from textblob import TextBlob "
   ]
  },
  {
   "cell_type": "code",
   "execution_count": 30,
   "metadata": {},
   "outputs": [],
   "source": [
    "def clean_tweet(tweet): \n",
    "    ''' function to clean tweet text by special characters. '''\n",
    "    return ' '.join(re.sub(\"(@[A-Za-z0-9]+)|([^0-9A-Za-z \\t])|(\\w+:\\/\\/\\S+)\", \" \", tweet).split())"
   ]
  },
  {
   "cell_type": "code",
   "execution_count": 31,
   "metadata": {},
   "outputs": [],
   "source": [
    "def get_tweet_sentiment(tweet): \n",
    "    '''  function to classify sentiment of passed tweet using textblob's sentiment method '''\n",
    "    # create TextBlob object of passed tweet text \n",
    "    analysis = TextBlob(clean_tweet(tweet)) \n",
    "    # set sentiment \n",
    "    if analysis.sentiment.polarity > 0: \n",
    "        return 'positive'\n",
    "    elif analysis.sentiment.polarity == 0: \n",
    "        return 'neutral'\n",
    "    else: \n",
    "        return 'negative'"
   ]
  },
  {
   "cell_type": "code",
   "execution_count": 113,
   "metadata": {},
   "outputs": [],
   "source": [
    "# if needed add more keywords\n",
    "keywords = [\"jobs\",\"unemployement\"]\n",
    "tweets_two= []\n",
    "for i in keywords:\n",
    "    tweets_two.append(api.search(q = i, since = \"2020-03-21\", count=100))"
   ]
  },
  {
   "cell_type": "code",
   "execution_count": 115,
   "metadata": {},
   "outputs": [],
   "source": [
    "tweets_two_1 = []\n",
    "for i in range(len(keywords)):\n",
    "    for tweet in tweets_two[i]:\n",
    "        parsed_tweet = {}\n",
    "        parsed_tweet['text'] = tweet.text\n",
    "        parsed_tweet['sentiment'] = get_tweet_sentiment(tweet.text) \n",
    "        if tweet.retweet_count > 0: \n",
    "            if parsed_tweet not in tweets1: \n",
    "                tweets_two_1.append(parsed_tweet) \n",
    "        else: \n",
    "            tweets_two_1.append(parsed_tweet)"
   ]
  },
  {
   "cell_type": "code",
   "execution_count": 116,
   "metadata": {
    "collapsed": true
   },
   "outputs": [
    {
     "name": "stdout",
     "output_type": "stream",
     "text": [
      "[{'text': \"RT @charliekirk11: House Democrats are collecting $174,000+ salaries while refusing to go to work\\n\\nTomorrow—they're going to approve proxy…\", 'sentiment': 'neutral'}, {'text': \"RT @charliekirk11: House Democrats are collecting $174,000+ salaries while refusing to go to work\\n\\nTomorrow—they're going to approve proxy…\", 'sentiment': 'neutral'}, {'text': \"RT @Mikko7for7: All ex-exos plus lay gain more fame through acting jobs so i'd say yes to actorson.\", 'sentiment': 'positive'}, {'text': 'Sooo jobhunting this term is going to be rough. about 400 jobs (across all faculties/industries) for 7000 students -- let the games begin', 'sentiment': 'negative'}, {'text': '@DartmouthDerek ECEs are among the lowest paid professionals in the province.  Many of them are also struggling wit… https://t.co/sgu77Bahbo', 'sentiment': 'positive'}, {'text': \"RT @charliekirk11: If Nancy Pelosi won't let her members show up to their jobs in Washington\\n\\n...Is she admitting that her House is Non-Ess…\", 'sentiment': 'neutral'}, {'text': \"RT @Orcusa1: Gretchen Whitmer has suspended the license of a 77 year old barber who didn't close his business during her controlling shutdo…\", 'sentiment': 'positive'}, {'text': 'RT @thehill: Joe Biden: \"We\\'re in the middle of a pandemic that has cost us more than 85,000 jobs as of today. Lives of millions of people,…', 'sentiment': 'positive'}, {'text': \"RT @charliekirk11: House Democrats are collecting $174,000+ salaries while refusing to go to work\\n\\nTomorrow—they're going to approve proxy…\", 'sentiment': 'neutral'}, {'text': \"RT @charliekirk11: House Democrats are collecting $174,000+ salaries while refusing to go to work\\n\\nTomorrow—they're going to approve proxy…\", 'sentiment': 'neutral'}, {'text': 'RT @WarRoomPandemic: Bannon: Yield curve control and interest rates of zero means average Americans get zero. 15 million lost jobs are neve…', 'sentiment': 'negative'}, {'text': \"RT @charliekirk11: House Democrats are collecting $174,000+ salaries while refusing to go to work\\n\\nTomorrow—they're going to approve proxy…\", 'sentiment': 'neutral'}, {'text': \"RT @charliekirk11: House Democrats are collecting $174,000+ salaries while refusing to go to work\\n\\nTomorrow—they're going to approve proxy…\", 'sentiment': 'neutral'}, {'text': 'RT @mnelistoo: No one is concerned about the mental state of the poor people of this country some are losing jobs and small businesses are…', 'sentiment': 'negative'}, {'text': '@the_resistor @realDonaldTrump The virus is forcing people to quit their jobs and your acting like it’s his fault?… https://t.co/QQjbXLiKcc', 'sentiment': 'neutral'}, {'text': 'RT @AndrewYang: Economists project that 42% of the jobs we are losing right now are gone for good. That’s 15 million jobs. That’s the size…', 'sentiment': 'positive'}, {'text': 'RT @thehill: Joe Biden: \"We\\'re in the middle of a pandemic that has cost us more than 85,000 jobs as of today. Lives of millions of people,…', 'sentiment': 'positive'}, {'text': 'RT @DrSuneilJain: We have now lost more jobs than the Great Depression. This should scare anyone more than a virus that spares 99% of us.', 'sentiment': 'positive'}, {'text': \"RT @charliekirk11: If Nancy Pelosi won't let her members show up to their jobs in Washington\\n\\n...Is she admitting that her House is Non-Ess…\", 'sentiment': 'neutral'}, {'text': 'RT @newtgingrich: How do you explain a House Democratic Party so crazy that their new $3 trillion proposal has 68 references to Cannabis an…', 'sentiment': 'negative'}, {'text': \"RT @charliekirk11: House Democrats are collecting $174,000+ salaries while refusing to go to work\\n\\nTomorrow—they're going to approve proxy…\", 'sentiment': 'neutral'}, {'text': 'RT @ZKRedhead: 2021 PSAs: A lot of you (and your parents) are very nervous and anxious about whether you will be recruited if there is no J…', 'sentiment': 'negative'}, {'text': \"RT @charliekirk11: House Democrats are collecting $174,000+ salaries while refusing to go to work\\n\\nTomorrow—they're going to approve proxy…\", 'sentiment': 'neutral'}, {'text': 'RT @RealMattCouch: Well in a few months everyone will have jobs again... Well everyone except Colin Kaepernick...', 'sentiment': 'negative'}, {'text': \"RT @rachelposer: Hard to watch as so many talented writers lose their jobs today. I'm an editor @Harpers and would love to read your pitche…\", 'sentiment': 'positive'}, {'text': \"RT @charliekirk11: If Nancy Pelosi won't let her members show up to their jobs in Washington\\n\\n...Is she admitting that her House is Non-Ess…\", 'sentiment': 'neutral'}, {'text': 'RT @thehill: Joe Biden: \"We\\'re in the middle of a pandemic that has cost us more than 85,000 jobs as of today. Lives of millions of people,…', 'sentiment': 'positive'}, {'text': \"RT @charliekirk11: House Democrats are collecting $174,000+ salaries while refusing to go to work\\n\\nTomorrow—they're going to approve proxy…\", 'sentiment': 'neutral'}, {'text': 'RT @Fiorella_im: BREAKING Jeff Bezos is set to be the FIRST TRILLIONAIRE. Bezos only gave his workers $2 extra dollars an hour extra during…', 'sentiment': 'positive'}, {'text': \"RT @charliekirk11: If Nancy Pelosi won't let her members show up to their jobs in Washington\\n\\n...Is she admitting that her House is Non-Ess…\", 'sentiment': 'neutral'}, {'text': '@WilliamLamberth @ClayTravis Hey Bill, we flattened the curve. “15 days to flatten the curve...” You want everyone… https://t.co/YvCi4Lppas', 'sentiment': 'neutral'}, {'text': \"RT @charliekirk11: House Democrats are collecting $174,000+ salaries while refusing to go to work\\n\\nTomorrow—they're going to approve proxy…\", 'sentiment': 'neutral'}, {'text': 'Just because the CDC is incompetent and trying to be Trumpwise to keep their jobs, doesn’t mean that there isn’t a… https://t.co/ZNl0Z3k483', 'sentiment': 'negative'}, {'text': \"RT @charliekirk11: House Democrats are collecting $174,000+ salaries while refusing to go to work\\n\\nTomorrow—they're going to approve proxy…\", 'sentiment': 'neutral'}, {'text': 'RT @AndrewYang: Economists project that 42% of the jobs we are losing right now are gone for good. That’s 15 million jobs. That’s the size…', 'sentiment': 'positive'}, {'text': 'RT @PhilsPhamily1st: @SnipedPaulie She like \"Shitttt... I work 2 got damn jobs everyday to pay for these fruit snacks I\\'m tastin\\' one.. htt…', 'sentiment': 'negative'}, {'text': \"RT @charliekirk11: House Democrats are collecting $174,000+ salaries while refusing to go to work\\n\\nTomorrow—they're going to approve proxy…\", 'sentiment': 'neutral'}, {'text': 'RT @khemtajose: Do your actual jobs, goddamn.', 'sentiment': 'neutral'}, {'text': \"RT @charliekirk11: If Nancy Pelosi won't let her members show up to their jobs in Washington\\n\\n...Is she admitting that her House is Non-Ess…\", 'sentiment': 'neutral'}, {'text': \"RT @charliekirk11: House Democrats are collecting $174,000+ salaries while refusing to go to work\\n\\nTomorrow—they're going to approve proxy…\", 'sentiment': 'neutral'}, {'text': 'RT @ellinghausen: “This is a tough day for Australia, a very tough day. Almost 600,000 jobs have been lost, everyone one of them devastatin…', 'sentiment': 'negative'}, {'text': \"RT @charliekirk11: House Democrats are collecting $174,000+ salaries while refusing to go to work\\n\\nTomorrow—they're going to approve proxy…\", 'sentiment': 'neutral'}, {'text': \"RT @charliekirk11: House Democrats are collecting $174,000+ salaries while refusing to go to work\\n\\nTomorrow—they're going to approve proxy…\", 'sentiment': 'neutral'}, {'text': \"RT @charliekirk11: House Democrats are collecting $174,000+ salaries while refusing to go to work\\n\\nTomorrow—they're going to approve proxy…\", 'sentiment': 'neutral'}, {'text': \"RT @charliekirk11: House Democrats are collecting $174,000+ salaries while refusing to go to work\\n\\nTomorrow—they're going to approve proxy…\", 'sentiment': 'neutral'}, {'text': '@dentaldiva1 @KevinVesey @News12LI Why dont you get a clue people are losing their homes and jobs for nothing but T… https://t.co/cOdtwR5XTt', 'sentiment': 'neutral'}, {'text': 'RT @ShahidForChange: The racial disparity in coronavirus exposure in San Francisco is both unacceptable and revealing.\\n\\nIt reflects a growi…', 'sentiment': 'neutral'}, {'text': \"RT @charliekirk11: House Democrats are collecting $174,000+ salaries while refusing to go to work\\n\\nTomorrow—they're going to approve proxy…\", 'sentiment': 'neutral'}, {'text': \"RT @charliekirk11: House Democrats are collecting $174,000+ salaries while refusing to go to work\\n\\nTomorrow—they're going to approve proxy…\", 'sentiment': 'neutral'}, {'text': 'RT @ShahidForChange: The racial disparity in coronavirus exposure in San Francisco is both unacceptable and revealing.\\n\\nIt reflects a growi…', 'sentiment': 'neutral'}, {'text': \"RT @charliekirk11: If Nancy Pelosi won't let her members show up to their jobs in Washington\\n\\n...Is she admitting that her House is Non-Ess…\", 'sentiment': 'neutral'}, {'text': 'China Officially Recognizes Blockchain Jobs as New Occupation\\nhttps://t.co/rBImGTfRTV\\nThe ongoing coronavirus pande… https://t.co/4KsbBNCEFQ', 'sentiment': 'positive'}, {'text': '@TheDSingularity @noplaceforsheep It fits with the USA template we are moving to. Unpaid interns, who get the rare… https://t.co/3TV1RFMmXH', 'sentiment': 'positive'}, {'text': \"All ex-exos plus lay gain more fame through acting jobs so i'd say yes to actorson. https://t.co/n6m51Lq5kz\", 'sentiment': 'positive'}, {'text': \"RT @charliekirk11: House Democrats are collecting $174,000+ salaries while refusing to go to work\\n\\nTomorrow—they're going to approve proxy…\", 'sentiment': 'neutral'}, {'text': '@Nick_Trump7 @Derameth @Belann_Farrar1 @rowdydowdys1 @CaliNeedsHelp @NickCarpentry @MspdcaliKag @HenryN2020… https://t.co/3knlczUEYt', 'sentiment': 'neutral'}, {'text': \"RT @RealBasedMAGA: “We're in the middle of a pandemic that has cost us more than 85,000 jobs as of today. Lives of millions of people, mill…\", 'sentiment': 'positive'}, {'text': 'RT @alexisgoldstein: Today, there was a drastic, terrible rollback to the student debt cancellation in the #HeroesAct.\\n\\nPreviously, there w…', 'sentiment': 'negative'}, {'text': 'RT @INUnPlugged: Kanpur : Musalman Bhai log humko Khana dete the, Police ne bola wo thook kar corona faila rahe hai aur khana band kara dia…', 'sentiment': 'neutral'}, {'text': \"RT @charliekirk11: If Nancy Pelosi won't let her members show up to their jobs in Washington\\n\\n...Is she admitting that her House is Non-Ess…\", 'sentiment': 'neutral'}, {'text': \"RT @charliekirk11: House Democrats are collecting $174,000+ salaries while refusing to go to work\\n\\nTomorrow—they're going to approve proxy…\", 'sentiment': 'neutral'}, {'text': 'RT @DivaLaci: Remember when they told y’all taxing the rich less would create more jobs? Now Jeff Bezos has almost a trillion dollars and 4…', 'sentiment': 'positive'}, {'text': \"RT @charliekirk11: House Democrats are collecting $174,000+ salaries while refusing to go to work\\n\\nTomorrow—they're going to approve proxy…\", 'sentiment': 'neutral'}, {'text': 'RT @dpradhanbjp: ₹70,000 cr boost to housing sector and middle-income group, EPF support for businesses and organised workers, plans worth…', 'sentiment': 'positive'}, {'text': 'RT @alexisgoldstein: Today, there was a drastic, terrible rollback to the student debt cancellation in the #HeroesAct.\\n\\nPreviously, there w…', 'sentiment': 'negative'}, {'text': 'RT @mark_wildlife1: Please help me spread the word! New opening in the #precisionag part of my lab! This is a great opportunity for an aspi…', 'sentiment': 'positive'}, {'text': 'RT @ShahidForChange: The racial disparity in coronavirus exposure in San Francisco is both unacceptable and revealing.\\n\\nIt reflects a growi…', 'sentiment': 'neutral'}, {'text': 'RT @ShahidForChange: The racial disparity in coronavirus exposure in San Francisco is both unacceptable and revealing.\\n\\nIt reflects a growi…', 'sentiment': 'neutral'}, {'text': 'RT @Megavolts001: #Arizona\\n#Chips\\n#CMOS\\n#Economy\\n#Jobs\\n#TSMC\\n#WaferFab\\nTaiwan Silicon Chip Company To Build Semiconductor Factory In Arizon…', 'sentiment': 'neutral'}, {'text': \"RT @Orcusa1: Gretchen Whitmer has suspended the license of a 77 year old barber who didn't close his business during her controlling shutdo…\", 'sentiment': 'positive'}, {'text': 'RT @thehill: Joe Biden: \"We\\'re in the middle of a pandemic that has cost us more than 85,000 jobs as of today. Lives of millions of people,…', 'sentiment': 'positive'}, {'text': \"RT @charliekirk11: If Nancy Pelosi won't let her members show up to their jobs in Washington\\n\\n...Is she admitting that her House is Non-Ess…\", 'sentiment': 'neutral'}, {'text': \"RT @charliekirk11: House Democrats are collecting $174,000+ salaries while refusing to go to work\\n\\nTomorrow—they're going to approve proxy…\", 'sentiment': 'neutral'}, {'text': '@BurgraffRodney @KittyLovesGod We need are jobs to come back', 'sentiment': 'neutral'}, {'text': '@kittygi45474289 They are unknown, don’t have important jobs, many times without job', 'sentiment': 'positive'}, {'text': \"RT @charliekirk11: If Nancy Pelosi won't let her members show up to their jobs in Washington\\n\\n...Is she admitting that her House is Non-Ess…\", 'sentiment': 'neutral'}, {'text': \"RT @charliekirk11: House Democrats are collecting $174,000+ salaries while refusing to go to work\\n\\nTomorrow—they're going to approve proxy…\", 'sentiment': 'neutral'}, {'text': \"RT @1AmyChew: 1. Indonesia's hard-hit economy may push President #Jokowi to open the economy in phases next month as more than 2 million ha…\", 'sentiment': 'positive'}, {'text': \"RT @charliekirk11: House Democrats are collecting $174,000+ salaries while refusing to go to work\\n\\nTomorrow—they're going to approve proxy…\", 'sentiment': 'neutral'}, {'text': 'Most of these people look too stupid to have jobs https://t.co/yCndhMEs1K', 'sentiment': 'negative'}, {'text': 'RT @FrankScottJr: Spent time at the new Southwest Little Rock @Amazon site on Vimy Ridge Rd. These hundreds of jobs will be a major boost f…', 'sentiment': 'negative'}, {'text': 'A year ago, people wanted immigrant workers who are paid minimum wage to \"go back to their own country.\" Now, they\\'… https://t.co/YrVN0wJoi5', 'sentiment': 'positive'}, {'text': 'RT @ProudSocialist: I don’t know how anyone can defend an economic system where a plutocrat like Jeff Bezos makes $24 billion during a pand…', 'sentiment': 'positive'}, {'text': 'RT @ShahidForChange: The racial disparity in coronavirus exposure in San Francisco is both unacceptable and revealing.\\n\\nIt reflects a growi…', 'sentiment': 'neutral'}, {'text': 'Why Gen Z will be hit the hardest by the financial fallout from coronavirus - CNN https://t.co/pR5G9x8uNR', 'sentiment': 'neutral'}, {'text': 'RT @AndrewYang: Economists project that 42% of the jobs we are losing right now are gone for good. That’s 15 million jobs. That’s the size…', 'sentiment': 'positive'}, {'text': '@echelecabeza @lisergicos @agaviriau @extituto @Brigittelgb @cartelurbano @fundacionFESCOL @rabodeajip @nxthxchxs… https://t.co/5MObCrOphQ', 'sentiment': 'neutral'}, {'text': \"RT @charliekirk11: House Democrats are collecting $174,000+ salaries while refusing to go to work\\n\\nTomorrow—they're going to approve proxy…\", 'sentiment': 'neutral'}, {'text': \"RT @JFNYC1: OMG. this is really getting painful!\\n\\nBeijing Biden: We're in the middle of a pandemic that has cost us more than 85,000 jobs a…\", 'sentiment': 'positive'}, {'text': \"RT @charliekirk11: House Democrats are collecting $174,000+ salaries while refusing to go to work\\n\\nTomorrow—they're going to approve proxy…\", 'sentiment': 'neutral'}, {'text': \"RT @charliekirk11: House Democrats are collecting $174,000+ salaries while refusing to go to work\\n\\nTomorrow—they're going to approve proxy…\", 'sentiment': 'neutral'}, {'text': 'RT @appleinsider: Rare photos show Steve Jobs having lunch with Google executives\\nhttps://t.co/hZQomK0nt1 https://t.co/HmSOK4wFOz', 'sentiment': 'positive'}, {'text': 'A weird thing about being an immigrant during this crisis is that some friends’ve already decided to leave the coun… https://t.co/7imryeo5V9', 'sentiment': 'negative'}, {'text': 'RT @AyoCaesar: When the right talk about “going back to normal”, they mean low-paid workers going back to service jobs where they can’t soc…', 'sentiment': 'positive'}, {'text': 'RT @sellerjpl2000: PELOSI’s bill pays illegals!\\nAs absurd,unbelievable,dishonest,disingenuous,un-American, unfeeling, partisan you can be,P…', 'sentiment': 'negative'}, {'text': 'RT @dpradhanbjp: ₹70,000 cr boost to housing sector and middle-income group, EPF support for businesses and organised workers, plans worth…', 'sentiment': 'positive'}, {'text': \"'Contact Tracing' Jobs Create Terrifying Army of Karens https://t.co/5jWrWbvXWk\", 'sentiment': 'negative'}, {'text': 'RT @MIGOP: Due to President @realDonaldTrump  leadership, the CARES Act saved nearly 2 million jobs. But due to Whitmer’s draconian policie…', 'sentiment': 'negative'}, {'text': '@cityofcalgary How does one find information regarding the jobs?', 'sentiment': 'neutral'}, {'text': \"RT @charliekirk11: House Democrats are collecting $174,000+ salaries while refusing to go to work\\n\\nTomorrow—they're going to approve proxy…\", 'sentiment': 'neutral'}, {'text': '@Breaking911 Yeah, you devalue my labor w/ every dollar you print. Thanks federal gvt. I haven’t stopped working. T… https://t.co/zOdN2axwcr', 'sentiment': 'positive'}, {'text': '@PrehensileOne That sucks,,  can you get unemployement plus the extra money from the Gov?   Hopefully this will end sooner rather than later', 'sentiment': 'negative'}, {'text': '@NorthmanTrader The Game of the richs. Who count the unemployement ?', 'sentiment': 'negative'}, {'text': 'According to the news today, Aust unemployement has risen by 590k in April, which has taken the %age from 5.2 to 6.… https://t.co/olRC5xqiJS', 'sentiment': 'neutral'}, {'text': 'Don’t let the unemployement office see me buying demi merch 😅', 'sentiment': 'neutral'}, {'text': '@realDonaldTrump @seanhannity @tuckercarlson @foxnews @cnn @nytimes @washingtonpost @newsweek @time @wsj @forbes… https://t.co/DeoxbpnvFd', 'sentiment': 'neutral'}, {'text': 'RT @8NewsNow: DETR implements the federal Pandemic Emergency Unemployement Compensation PEUC extension of benefits, people will be able to…', 'sentiment': 'positive'}, {'text': 'Dallas family law attorney, Lindsey Obenhaus explains the option of child modification and any implications that ne… https://t.co/vW5Z7QA8Rs', 'sentiment': 'neutral'}, {'text': \"@tymmcote @AndrewYang So pay employees more so unemployement isn't paying them more :v Prices too high and min wage… https://t.co/zn7RpFlnMD\", 'sentiment': 'positive'}, {'text': \"My job is rehiring us but we're not going to make nearly as much since we're servers but if I decline my unemployem… https://t.co/WuAT9hKzdA\", 'sentiment': 'positive'}, {'text': '@RepFredKeller @realDonaldTrump @newsmax And in the mean time corona deaths are heading towards 100k and unemployem… https://t.co/LMaLBgl9nh', 'sentiment': 'negative'}, {'text': '@TraceyY67515427 Filed once, just pretty much waited it out &amp; was denied regular unemployement and approved for PUA… https://t.co/0ZWTQHt6FT', 'sentiment': 'positive'}, {'text': 'corona Governor Wolf here in PA is actually holding back stimulus funds from whoever opens up their business  They… https://t.co/hEOF8Jaq6U', 'sentiment': 'neutral'}, {'text': '@jgrano305 Yeah, I do know that in every state that people on unemployement are getting a lot of money but I guess you gotta get it first', 'sentiment': 'positive'}, {'text': '@jgrano305 Better to have them apply for unemployement, they’ll get more money.', 'sentiment': 'positive'}, {'text': '@realDonaldTrump Is the unemployement rate already above 30%? #TrumpGate #TrumpsJealousOfObama #TrumpIsAnIdiot 85.5… https://t.co/d08IS8WUys', 'sentiment': 'neutral'}, {'text': '@realDonaldTrump @NYGovCuomo @NYCMayor I would love to have a meeting with president. I’m small biz owner, CEO, Cas… https://t.co/igVwc46Onr', 'sentiment': 'positive'}, {'text': '@sunfloweraidil Nope. Main reason why citizens of Maldives are leaving their country is because of youth unemployem… https://t.co/msrvbCqysi', 'sentiment': 'positive'}, {'text': '@lexi4prez the fact that a trillionaire even exist shows how rotten the system is. the difference between a million… https://t.co/RNQCR0gWe6', 'sentiment': 'neutral'}, {'text': '@SerraldeMusic @NorcaL1979 Listen to your workforce, they are the base of your wealth, or you can do the immoral th… https://t.co/0lsJ6o1fyO', 'sentiment': 'negative'}, {'text': '@RepCohen @CNN @maddow @NBCNews  @CBSNews @kathygriffin  @Rosie @MariahCarey @SpeakerPelosi still haven’t recieved… https://t.co/Ejh8Rsi0dz', 'sentiment': 'neutral'}, {'text': \"@dkoust @andy_garin @yalunsu I am so lucky to be a Nevadian now, &amp; creditors don't seem to care that I haven't work… https://t.co/JG194bQ095\", 'sentiment': 'positive'}, {'text': 'Lemme tell ya having to file an unemployement appeal is not any fun at all', 'sentiment': 'positive'}, {'text': '@GOPoversight @jasoninthehouse Isn’t about time they starting doing their job, instead of going after Obama?  So wo… https://t.co/kletlm6weR', 'sentiment': 'neutral'}, {'text': '@barbara_philly @shrikeworship @herreraz @TheRightMelissa @realDonaldTrump @LindseyGrahamSC There is only one side… https://t.co/PLC1sVz7Ze', 'sentiment': 'neutral'}, {'text': \"except we care too, i don't know why they think we don't care about wayv's unemployement https://t.co/E3LJb1oBGX\", 'sentiment': 'neutral'}, {'text': '@mommatotwo_ Also unemployement added 600$ a week. I dont make that much at my regular job. Unfortunately some peop… https://t.co/6sajJ3dV54', 'sentiment': 'negative'}, {'text': 'When all are silent we are at ground with every respect.\\nUnemployement is an important issue and we will always bec… https://t.co/oYFKU0BAwe', 'sentiment': 'positive'}, {'text': '\"If yOurE eXcItEd fOr BaRs tO oPeN bAcK uP aNd yOu hAvEnT wOrKeD aNd jUsT SiT aRoUnD aNd CoLLecT uNeMpLoYeMeNt yOuR… https://t.co/IKuy3KIBb8', 'sentiment': 'positive'}, {'text': 'Over 517,000 North Carolinians have been able to get unemployement benefits to date. I’m more concerned about the o… https://t.co/qp2ZnoopcG', 'sentiment': 'positive'}, {'text': '@lovers_don @TheCitizen_News I agree with the Lock down and the strategy. We are not going to die from unemployemen… https://t.co/ztlz9yHPy0', 'sentiment': 'negative'}, {'text': '@JeffreyGuterman @realDonaldTrump Unemployement Levels are extreme and certainly worrisome but a bigger concern sho… https://t.co/BIAtoXWhna', 'sentiment': 'positive'}, {'text': 'I have this very vague idea of moving to this one city in the south-east of this country. There’s not many things s… https://t.co/nRGo5R2Xz3', 'sentiment': 'negative'}, {'text': 'US unemployement rate hits almost 15%. 36 M people in a country with population 330 M.', 'sentiment': 'neutral'}, {'text': 'so I thought we had to log in for our claim to process so what a nice surprise to have an unemployement check show… https://t.co/kOb9837UGl', 'sentiment': 'positive'}, {'text': '@GovRonDeSantis @FLForestService Thats ok, I think mother nature got this. The Miami local news channels did report… https://t.co/RwL0qcG6QN', 'sentiment': 'positive'}, {'text': '@realDonaldTrump 😂😂😂😂😂 Also the unemployement rate is looking great....👌🏻', 'sentiment': 'positive'}, {'text': '#ohio #COVID19Pandemic #US #America #Unemployement #cybersec #infosec #cybersecurity great Job!\\nhttps://t.co/1ikubPpQmF', 'sentiment': 'positive'}, {'text': \"@Lostinram @almosthumanjbj @tobybuckwyler @RunPolisRun @jeremyscahill (also, he's responsible for amending the CARE… https://t.co/uiBWtvSFeX\", 'sentiment': 'positive'}, {'text': 'Drop after unemployement report. Long lower wicks = buyers. Possible retracement back up to the resistance? then co… https://t.co/hE0HZDLiW2', 'sentiment': 'negative'}, {'text': '@Savedatmoney3 @thehill U-6 Unemployement is around 23-25% IIRC', 'sentiment': 'neutral'}, {'text': 'Thus the \"true\" unemployement rate is around 40%.  Government is merely prolonging the inevitable but sadly those p… https://t.co/76xMtc7Pp6', 'sentiment': 'negative'}, {'text': '@Brian899492 With our ineptocracy, unemployement, corruption and our murder rate (57 a day) ... let’s just just say… https://t.co/1gPexEHoF4', 'sentiment': 'neutral'}, {'text': 'Do you know someone who needs the #VRS?\\n\\n#financialvulnerability #mentalhealth #disability #addiction #unemployement https://t.co/Ia5NIzwMIU', 'sentiment': 'neutral'}, {'text': '@lexi4prez @Skeltra why blame one guy on unemployement when its because of virus? im so confused', 'sentiment': 'negative'}]\n"
     ]
    }
   ],
   "source": [
    "print(tweets_two_1)"
   ]
  },
  {
   "cell_type": "code",
   "execution_count": 117,
   "metadata": {},
   "outputs": [
    {
     "name": "stdout",
     "output_type": "stream",
     "text": [
      "Positive tweets percentage:  33.793103448275865\n"
     ]
    }
   ],
   "source": [
    "ptweets1 = [tweet for tweet in tweets_two_1 if tweet['sentiment'] == 'positive'] \n",
    "\n",
    "# percentage of positive tweets \n",
    "p_per1 = 100*len(ptweets1)/len(tweets_two_1)\n",
    "print(\"Positive tweets percentage: \",p_per1) "
   ]
  },
  {
   "cell_type": "code",
   "execution_count": 118,
   "metadata": {},
   "outputs": [
    {
     "name": "stdout",
     "output_type": "stream",
     "text": [
      "Negative tweets percentage:  18.620689655172413\n"
     ]
    }
   ],
   "source": [
    "# picking negative tweets from tweets \n",
    "ntweets1 = [tweet for tweet in tweets_two_1 if tweet['sentiment'] == 'negative'] \n",
    "# percentage of negative tweets \n",
    "n_per1 = 100*len(ntweets1)/len(tweets_two_1)\n",
    "print(\"Negative tweets percentage: \",n_per1) "
   ]
  },
  {
   "cell_type": "code",
   "execution_count": 120,
   "metadata": {},
   "outputs": [
    {
     "name": "stdout",
     "output_type": "stream",
     "text": [
      "Neutral tweets percentage:   47.58620689655172\n"
     ]
    }
   ],
   "source": [
    "neu_tweets1 = [tweet for tweet in tweets_two_1 if tweet['sentiment'] == 'neutral'] \n",
    "# percentage of neutral tweets \n",
    "neu_per1 = 100*len(neu_tweets1)/len(tweets_two_1)\n",
    "print(\"Neutral tweets percentage:  \",neu_per1) "
   ]
  },
  {
   "cell_type": "code",
   "execution_count": 59,
   "metadata": {},
   "outputs": [],
   "source": [
    "import matplotlib.pyplot as plt"
   ]
  },
  {
   "cell_type": "code",
   "execution_count": 139,
   "metadata": {},
   "outputs": [
    {
     "data": {
      "image/png": "[encoded data removed]",
      "text/plain": [
       "<Figure size 432x288 with 1 Axes>"
      ]
     },
     "metadata": {
      "needs_background": "light"
     },
     "output_type": "display_data"
    }
   ],
   "source": [
    "plt.title(\"Sentiment analysis on twitter data of two keywords from 21-march-2020\")\n",
    "plt.bar([\"postive\",\"negative\",\"neutral\"],[p_per1,n_per1,neu_per1], color = [\"green\",\"red\",\"orange\"])\n",
    "plt.yticks(range(0,69,10))\n",
    "plt.show()\n"
   ]
  },
  {
   "cell_type": "code",
   "execution_count": null,
   "metadata": {},
   "outputs": [],
   "source": []
  },
  {
   "cell_type": "code",
   "execution_count": 129,
   "metadata": {},
   "outputs": [
    {
     "name": "stdout",
     "output_type": "stream",
     "text": [
      "\n",
      "\n",
      "Positive tweets:\n",
      "RT @Mikko7for7: All ex-exos plus lay gain more fame through acting jobs so i'd say yes to actorson.\n",
      "@DartmouthDerek ECEs are among the lowest paid professionals in the province.  Many of them are also struggling wit… https://t.co/sgu77Bahbo\n",
      "RT @Orcusa1: Gretchen Whitmer has suspended the license of a 77 year old barber who didn't close his business during her controlling shutdo…\n",
      "RT @thehill: Joe Biden: \"We're in the middle of a pandemic that has cost us more than 85,000 jobs as of today. Lives of millions of people,…\n",
      "RT @AndrewYang: Economists project that 42% of the jobs we are losing right now are gone for good. That’s 15 million jobs. That’s the size…\n",
      "RT @thehill: Joe Biden: \"We're in the middle of a pandemic that has cost us more than 85,000 jobs as of today. Lives of millions of people,…\n",
      "RT @DrSuneilJain: We have now lost more jobs than the Great Depression. This should scare anyone more than a virus that spares 99% of us.\n",
      "RT @rachelposer: Hard to watch as so many talented writers lose their jobs today. I'm an editor @Harpers and would love to read your pitche…\n",
      "RT @thehill: Joe Biden: \"We're in the middle of a pandemic that has cost us more than 85,000 jobs as of today. Lives of millions of people,…\n",
      "RT @Fiorella_im: BREAKING Jeff Bezos is set to be the FIRST TRILLIONAIRE. Bezos only gave his workers $2 extra dollars an hour extra during…\n"
     ]
    }
   ],
   "source": [
    "# printing first 10 positive tweets\n",
    "print(\"\\n\\nPositive tweets:\") \n",
    "for tweet in ptweets1[:10]: \n",
    "    print(tweet['text']) "
   ]
  },
  {
   "cell_type": "code",
   "execution_count": 130,
   "metadata": {},
   "outputs": [
    {
     "name": "stdout",
     "output_type": "stream",
     "text": [
      "\n",
      "\n",
      "Negative tweets:\n",
      "@RepFredKeller @realDonaldTrump @newsmax And in the mean time corona deaths are heading towards 100k and unemployem… https://t.co/LMaLBgl9nh\n",
      "@SerraldeMusic @NorcaL1979 Listen to your workforce, they are the base of your wealth, or you can do the immoral th… https://t.co/0lsJ6o1fyO\n",
      "RT @Krishna60156649: @Anchorpriyanka_ madam  notice on jssc \n",
      "condidate  of ps  has suffered  unemployement due to completing their exam but…\n",
      "@mommatotwo_ Also unemployement added 600$ a week. I dont make that much at my regular job. Unfortunately some peop… https://t.co/6sajJ3dV54\n",
      "@Anchorpriyanka_ madam  notice on jssc \n",
      "condidate  of ps  has suffered  unemployement due to completing their exam… https://t.co/nMhCfJ2dqh\n",
      "@lovers_don @TheCitizen_News I agree with the Lock down and the strategy. We are not going to die from unemployemen… https://t.co/ztlz9yHPy0\n",
      "I have this very vague idea of moving to this one city in the south-east of this country. There’s not many things s… https://t.co/nRGo5R2Xz3\n",
      "Drop after unemployement report. Long lower wicks = buyers. Possible retracement back up to the resistance? then co… https://t.co/hE0HZDLiW2\n",
      "Thus the \"true\" unemployement rate is around 40%.  Government is merely prolonging the inevitable but sadly those p… https://t.co/76xMtc7Pp6\n",
      "@lexi4prez @Skeltra why blame one guy on unemployement when its because of virus? im so confused\n"
     ]
    }
   ],
   "source": [
    "# printing first 10 negative tweets \n",
    "print(\"\\n\\nNegative tweets:\") \n",
    "for tweet in ntweets[:10]:\n",
    "    print(tweet['text']) "
   ]
  },
  {
   "cell_type": "code",
   "execution_count": 132,
   "metadata": {},
   "outputs": [
    {
     "name": "stdout",
     "output_type": "stream",
     "text": [
      "\n",
      "\n",
      "Neutral tweets:\n",
      "DETR implements the federal Pandemic Emergency Unemployement Compensation PEUC extension of benefits, people will b… https://t.co/QtImft6eUF\n",
      "corona Governor Wolf here in PA is actually holding back stimulus funds from whoever opens up their business  They… https://t.co/hEOF8Jaq6U\n",
      "@realDonaldTrump Is the unemployement rate already above 30%? #TrumpGate #TrumpsJealousOfObama #TrumpIsAnIdiot 85.5… https://t.co/d08IS8WUys\n",
      "@lexi4prez the fact that a trillionaire even exist shows how rotten the system is. the difference between a million… https://t.co/RNQCR0gWe6\n",
      "RT @54and_counting: Dear @BorisJohnson, @RishiSunak has #ForgottenLTD directors are the back bone of the economy.\n",
      "@Conservatives used to pu…\n",
      "@RepCohen @CNN @maddow @NBCNews  @CBSNews @kathygriffin  @Rosie @MariahCarey @SpeakerPelosi still haven’t recieved… https://t.co/Ejh8Rsi0dz\n",
      "RT @NBanicki: @GovHolcomb Do we know why it’s taking 6 weeks to get unemployement for people? Others have been getting paid since it begin…\n",
      "@GOPoversight @jasoninthehouse Isn’t about time they starting doing their job, instead of going after Obama?  So wo… https://t.co/kletlm6weR\n",
      "@barbara_philly @shrikeworship @herreraz @TheRightMelissa @realDonaldTrump @LindseyGrahamSC There is only one side… https://t.co/PLC1sVz7Ze\n",
      "except we care too, i don't know why they think we don't care about wayv's unemployement https://t.co/E3LJb1oBGX\n"
     ]
    }
   ],
   "source": [
    "# printing first 10 neutral tweets \n",
    "print(\"\\n\\nNeutral tweets:\") \n",
    "for tweet in neu_tweets[:10]:\n",
    "    print(tweet['text']) "
   ]
  },
  {
   "cell_type": "code",
   "execution_count": null,
   "metadata": {},
   "outputs": [],
   "source": []
  }
 ],
 "metadata": {
  "kernelspec": {
   "display_name": "Python 3",
   "language": "python",
   "name": "python3"
  },
  "language_info": {
   "codemirror_mode": {
    "name": "ipython",
    "version": 3
   },
   "file_extension": ".py",
   "mimetype": "text/x-python",
   "name": "python",
   "nbconvert_exporter": "python",
   "pygments_lexer": "ipython3",
   "version": "3.7.6"
  }
 },
 "nbformat": 4,
 "nbformat_minor": 2
}
